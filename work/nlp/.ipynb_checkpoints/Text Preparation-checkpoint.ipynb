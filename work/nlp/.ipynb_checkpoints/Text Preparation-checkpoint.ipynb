{
 "cells": [
  {
   "cell_type": "markdown",
   "metadata": {},
   "source": [
    "File Preprocessing"
   ]
  },
  {
   "cell_type": "code",
   "execution_count": null,
   "metadata": {},
   "outputs": [],
   "source": [
    "!pip install -U numpy"
   ]
  },
  {
   "cell_type": "code",
   "execution_count": 1,
   "metadata": {},
   "outputs": [],
   "source": [
    "import os\n",
    "import codecs\n",
    "import spacy\n",
    "import numpy\n",
    "import gensim\n",
    "from spacy import displacy\n",
    "import pandas as pd"
   ]
  },
  {
   "cell_type": "code",
   "execution_count": 2,
   "metadata": {},
   "outputs": [
    {
     "data": {
      "text/plain": [
       "{'en': [],\n",
       " 'de': ['                                  2         auf der Sternwarte in Wien (1884), die andere durch VON Oarr auf der Sternwarte    in München (1877) ausgeführt worden war.*) Das durch die Konstanten                                                                g (val. abs.)         Wien, M.-G. I.  48° 121.7 16° 211.5  183 m    980.876 cm sek-2          definierte „Wiener g-System\" ist bisher allgemein als Grundlage für die relativen    g-Messungen beibehalten worden, und die näherungsweise ermittelten Reduktionsbeträge    der Beobachtungsreihen auf dasselbe haben Herrn Prof. HELMERT dazu gedient, eine    diesem System angepaßte Normalformel abzuleiten, die seit 1900 zur Darstellung des    Verlaufs der Schwerkraft an der Erdoberfläche verwendet wird.**)            In dem oben erwähnten Berichte (S. 374) wies Herr Prof. HELMERT jedoch    schon darauf hin, daß die Wiener Fundamentalkonstante, nach seinen auf anderes    Material gestützten Untersuchungen; wahrscheinlich einer Korrektion von — 0.015 bis    — 0.020 cm sek-2 bedürfe; und da ihm die älteren, meist mit beträchtlichen systematischen    Fehlern behafteten absoluten Messungen zur Ableitung eines Normalwertes von g nicht    geeignet erschienen, so leitete er im Jahre 1898 eine absolute Bestimmung von g    für Potsdam in die Wege. Bei dieser über 8 Jahre ausgedehnten und besonders auf    die Elimination systematischer Fehler Bedacht nehmenden Arbeit wurden außer den    Reversionspendeln des preußischen Geodätischen Instituts auch die österreichischen und    italienischen Reversionspendel verwendet und miteinander verglichen. Das Resultat war    für den Beobachtungsort                      Potsdam, Pendelsaa.1 des Geodätischen Instituts:                                   H              g (val. abs.)              52° 22:9  13° 4\\'.1  87 m    981.274 ± 0.003 cm sek-2.***)                Dieser mit einigen älteren absoluten Messungsergebnissen recht gut harmonierende    Wert bedingt, wie wir weiterhin sehen werden, in der Tat eine Korrektion der Wiener    Fundamentalkonstanten von — 0.016 cm sek 2.           In dem Zeitraum von 1900 bis 1906 sind zu den schon erwähnten Arbeiten noch     ungefähr 800 neue relative g-Messungen hinzugekommen, unter denen sich wiederum eine    Anzahl Verbindungen von Hauptstationen — insbesondere auch solChe mit Potsdam —               *) Mitteilungen des Kaiserl. und Königl. Militeer-Geographischen Institutes, X. Band, 1890,    S. 82; XI. Band, 1891, S. 161 und .XII. Band,\\' 1892, S. 227.           *5) Der normale Teil der Schwerkraft im Meeresniveceu, von F. R. 1-1,,,rAnmir; Sitzungsberichte   .  .      .   der Königl, preuß. Akademie der Wissenschaften zu Berlin vom 14. mefrz 1901, S. 328.u. f..       •  ***) Bestimmung der absoluten Größe der Schwerkraft zu Potsdam mit Reversionspendeln, von    Prof. Dr. F. KÜHNEN und Prof. Dr. PH. FURTWXNGLER ; Berlin 1906.',\n",
       "  \"                     2  messung so wichtigen Frage anbahnen könne. Im Anschluss hieran wurde der Beschluss gefasst, eine Aufforderung zur Theilnahme an dieser Untersuchung an eine grössere Anzahl von Sternwarten und Instituten ergehen zu lassen. Auf Grund dieser Anregung ist zwar von verschiedenen Seiten die Geneigtheit ausgesprochen worden, sich an einem gemeinschaftlichen Unternehmen dieser Art zu betheiligen, aber es ist bis zum heutigen Tage noch von keiner Seite mit wirklichen Beobachtungen begonnen worden.     Dieser Umstand sowie die Resultate einer mehr als einjährigen Beobachtungsreihe des Herrn Dr. Küstner auf der Berliner Sternwarte nach der Methode Horrebo w- Ta lco tt veranlassten Herrn Prof. F o erst er im Jahre 1888 in der zweiten Sitzung der Konferenz der Permanenten Kommission in Salzburg zu dem Antraget), von Neuem eine Kommission zu ernennen, welche sich mit dem Stande der Frage beschäftigen und nöthigenfalls der Permanenten Kommission weitergehende Vorschläge machen solle.     Durch die Ergebnisse dieser letzterwähnten Beobachtungsreihe war die Frage einer Veränderlichkeit der Polhöhe in ein akuteres Stadium getreten, da Herr Dr. K ü s tn er zu dem Resultat') gelangt war, dass die Beobachtungen derselben Sternpaare im Früh- jahr 1885 eine um or:20 ± 0':o4 (mittlerer Fehler) kleinere Polhöhe ergaben als die- jenigen im Frühjahr 1884, und dadurch die Frage nahe gerückt war, ob nicht vielleicht neben den schon mehrfach vermutheten säkularen Aenderungen der Polhöhe auch Schwan- kungen innerhalb kürzerer Fristen nachzuweisen seien. Die Möglichkeit derartiger Veränderungen, als Folge der auf der Erdoberfläche sich vollziehenden meteorologischen Vorgänge, ist wohl von Niemand bestritten worden; nur erschien es zweifelhaft, ob die Quantität derselben thatsächlich die Grenzen der Messbarkeit erreicht oder überschreitet.     Dem oben erwähnten Antrage des Herrn Prof. Fo er ster wurde Folge gegeben, in der dritten Sitzung der Bericht) der Kommission vorgelegt und der Beschluss gefasst, dass es die Permanente Kommission als eine wichtige und dringliche Aufgabe der Inter- nationalen Erdmessung betrachtet, nunmehr auch mit eigenen Mitteln und Kräften zur Aufklärung der Frage der Veränderlichkeit der Lage der Erdaxe im Erdkörper beizu- tragen, und dass es wünschenswerth sei, zur Vorbereitung weiterer umfassenderer Unter- suchungen dieser Art Vorversuche anzustellen, welche dem Centralbureau zu übertragen seien.     Es gereicht mir zur besonderen Ehre, Ihnen über diese Vorversuche heute Bericht erstatten zu können.     Von der Erwägung ausgehend, dass ein maassgebendes Urtheil über die Methode und die in Anwendung zu bringenden Instrumente nur durch fortgesetzte Ausführung von Breitenbestimmungen zu erlangen ist, und dass durch derartige Beobachtungen       1) Vergl. Verhandlungen der in Salzburg abgehaltenen Konferenz der Permanenten Kommission der Internationalen Erdmessung, Berlin x889, pag. 30.     2) Vergl. K üs tn er, Neue Methode zur Bestimmung der Aberrations-Konstante nebst Unter- suchungen über die Veränderlichkeit der Polhöhe, Berlin 1888, pag. 47.     2) Vergl. Verhandlungen der in Salzburg abgehaltenen Konferenz der Permanenten Kommission der Internationalen Erdmessung, Berlin 2889, pag. 33-34.\",\n",
       "  \"                   EINLEITUNG.      Historische Bemerkungen über das Wiener und das Potsdamer                     Schweresystem.       Seit der Einführung des STERNEcK'schen Pendelapparats *) haben die relativen Schweremessungen in fast allen der Internationalen Erdmessung angehörenden Staaten die lebhafteste Förderung erfahren. Im Jahre 1900, kaum 10 Jahre nach dem allge- meineren Bekanntwerden dieses Apparats, lag bereits ein Beobachtungsmaterial auf rund 1400 Stationen vor, zu dem das Militär-Geographische Institut in Wien und die öster- reichische Kriegsmarine unter Herrn VON STERNECK% Leitung und persönlicher Mitwirkung die weitaus größten Beiträge geliefert hatten. Eine ausführliche Zusammenstellung und kritische Beleuchtung dieser Arbeiten gab Herr Prof. HELMERT in seinem der XIII. Allge- meinen Konferenz der Internationalen Erdmessung in Paris (1900) vorgelegten Berichte, der außerdem noch etwa 100 g-Werte älteren Ursprungs enthält.**)      Zwischen den Referenz- und Hauptstationen der gesonderten Beobachtungsreihen, unter welcher Form sich die relativen g-Messungen stets darstellen, waren bereits Verbindungen in genügender Zahl hergestellt, so daß Herr Prof. HELMERT schon damals alle diese Reihen näherungsweise in ein einheitliches Schweresystem bringen konnte. Er wählte als Fundamentalstation das Militär-Geographische Institut in Wien, wo • Herr VON STERNECK den absoluten Wert der Schwerkraft durch relative Übertragung zweier absoluter Bestimmungen ermittelt hatte, von denen die eine durch VON OPPOLZER       *) Generalmajor Dr. ROBERT VON STERNECK j, der verdienstvolle ehemalige Leiter der trigono- metrischen Abteilung des K. u. K. Militär-Geographischen Instituts in Wien, ersann zu Anfang der achtziger Jahre des vorigen Jahrhunderts einen äußerst kompendiösen Pendelapparat, der im Ver- gleich mit den früheren Hilfsmitteln dieser Art eine wesentliche Vereinfachung und Verfeinerung des Beobachtungsverfahrens gewährte und sich bald die ungeteilte Anerkennung aller Fachleute erwarb. Mit STERNECK'S Apparat ward es möglich, die Schweremessungen in vorher ungeahnter Weise zu mehren und in kurzer Zeit über große Ländergebiete auszudehnen.     **) Verhandlungen der vom 25. September bis 6. Oktober in Paris abgehaltenen XIII. Allgemeinen Konferenz der Internationalen Erdmessung, II. Teil, S. 139 bis 385.                                              1\",\n",
       "  '                                        VII  Tabelle XII. Amerikanische Messungen.                                         Seite      Gruppe 1. Messungen der Coast and Geodetic Survey U. S. A. mit Sekunden-Reversions-                   Pendeln .1875-1890)                                      241, 247      Gruppe 2. Messungen der Coast and Geodetic Survey U. S. A. mit invariabeln Halb-                   sekundenpendeln                                           244,248      Gruppe 3. Messungen durch das Observatoi-v zu Ottawa (Brit. N. A       245,251 Tabelle XIII.Japanische Messungen.      Gruppe 1. Ältere Messungen mit Sekundenpendeln                         252,255      Gruppe 2. Messungen der Kaiserl. japanischen Gradmessungs-Kommission   252,255 Alphabetisches Verzeichnis der Schwerestationen                             259,261.   Übersichtskarten                                                              287      Blatt I. Übersicht über die geographische Verteilung der Schwerestationen in Europa bis                zum Jahre 1909.      Blatt II. Übersicht über die geographische Verteilung der Schwerestationen auf der Erde bis                zum Jahre 1909.                                         Druckfehler.             S. 6, Z. 1 v. o., lies die Länge von Straßburg 7° 46:1 statt 7° 46:6             S. 10, Z. 6 v. 0., lies gy statt g             S. 59, Z. 10 v. u., lies Castellammare statt Castellamare             S. 67, Z. 1 v. o., lies Tokyo statt Tokio             S. 67, Z. 15 v. o., lies Gassenmayr statt Gassenmayer             S. 86, Z. 13 v. o., lies Miltenberg statt Mittenberg             S. 92, Z. 12 v. u., lies Walfischbai statt Wallfischbei             5.101, Z. 3 v. u., lies Süderbrarup statt Süderbarup             S. 106, Z. 4 v. u., lies Säckingen statt Säkingen             S. 114, Z. 11 v. u., lies Kavslunde statt Karslunde             S. 145, Z. 13 v. u., lies Nikolaistad statt Nikolaistadt             5.261, Z. 2 v. u., lies Altona [Hamburg] statt Altona             5.268, Z. 15 v. u., lies Hamburg [Altona] statt Hamburg.'],\n",
       " 'fr': [\"                   6  et plus élevé que celui de l'avantage matériel, la communication directe des impérissables fruits de l'esprit humain y rencontre une sincère et unanime vénération.    C'est dans ce sentiment qu'elle salue les hommes accourus de plusieurs parties du globe pour verser dans le fonds commun de l'humanité les résultats de leurs nobles recherches scientifiques, pour s'éclairer mutuellement et préparer ensemble de nouveaux progrès et de nouvelles découvertes.    Et puisque cette fois-ci c'est La Haye que vous, Messieurs, vous êtes assigné comme rendez-vous, la Néerlande, par mon organe, vient vous dire qu'elle se félicite vivement de ce choix. Permettez moi d'y joindre tous mes voeux pour la bonne réussite de vos travaux et puisse le séjour que vous ferez ici et qui, à notre gré, sera toujours trop court, ne vous laisser que de bonnes et d'agréables impressions.    M. le Général Ibeez répond par les paroles suivantes:          Monsieur le Ministre,    Il y a déjà un an que la Commission permanente de l'Association géodésique internationale aurait tenu sa session annuelle à la Haye, oh le Gouvernement de S. M. le Roi avait bien voulu la recevoir; mais des circonstances imprévues, et en partie douloureuses, l'ont forcée d'y renoncer pour l'année dernière. Le Gouvernement des Pays Bas ayant bien voulu maintenir pour cette année sa gracieuse invitation, je suis heureux de constater ici la grande satisfaction que nous éprouvons, les géodésiens des différents pays de l'Europe, à nous réunir dans la patrie de Snellius, de Huygens, du Général Krayenhoff et de nos anciens éminents collègues, Messieurs Kaiser et Stamkart.    Ce dernier a été enlevé cette année même à la science, qu'il a cultivée avec tant de succès, et à ses confrères qui ont apprécié le charme et la bonté de son caractère. Ce qui nous console de cette perte, c'est l'assurance que nous avons de voir les travaux géodésiques continués en Hollande avec le même succès par la Commission géodésique qui réunit des hommes aussi distingués et compétents dans les différentes branches que nos études embrassent.    Nous regrettons tous l'absence du vénérable fondateur de cette vaste Association, Son Excellence Monsieur le Général Baeyer, retenu à Berlin par une indisposition qui l'a empêché de faire le voyage, mais qui lui permet de se vouer, comme toujours, à la direction des travaux du Bureau central de notre Association.    Je prie Votre Excellence d'agréer les remercîments de l'Association géodésique internationale, que j'ai l'honneur d'adresser en son nom au Gouvernement Néerlandais.    M. le Président donne la parole à M. Ilirsch, pour le dépouillement de la corres- pondance.    M. Iiirsch communique une lettre de M. le Général y. Forsch qui regrette d'être retenu par des circonstances impérieuses à St. Pétersbourg; il lit de même des lettres de M. le Général Carl. Em. de Arbués Moreira et de M. le Colonel Barozzi qui excttsent leur absence.\",\n",
       "  \" Le Fonds de dotation de la Commission permanente a été administré comme précé-demment. J'aurai l'honneur de remettre à M. le Président l'état des comptes pour l'an-née 1888 et un aperçu de la situation actuelle. 11ELMERT. Ce Rapport est accompagné de la liste suivante des. expéditions laites pendant l'exer-cice 1888/89. Résumé des expéditions de publications de l'Association géodésique faites par le Bureau central. Depuis la Conférence de Salzbourg, en 1888, jusqu'à la tin de septembre '1889, le Bureau central a reçu de MM. les délégués de l'Association géodésique internationale, pour être distribuées, les publications suivantes : 1. De M. le général Schreiber, à Berlin : Abrisse, Koordinaten und Iliihen licher von (ler Landes-Aufnahme bestimmten Punkt°. 8t► Theil. 79 exemplaires. -2. Du mème : Nivellement der Trigonometrischen Abtheilung der Landesaufnahme. 71er Band. 58 exemplaires. 3. De la Commission géodésique suisse : Le Réseau de Triangulalion suisse. Vol. III. letisuration des bases suisses par MM. le Dr Hirsch et le colonel D'Imm.. 4. De la inème : Das Schweizerische Dreiecksnetz. Band IV. 95 exemplaires. 5. De M. le colonel de Stefanis, à Florence : Relazione sulle esperienze istitute nel R. Osservatorio Astronomie° di Padova in Agosto '1885 e Febbraio 1886. '100 exemplaires. 6. Du même : Triangolazione di 10 ordine dell' isola Sardegna. Vol. 1. 100 exem- plaires. 7. De l'Institut militaire-géographique, à Vienne : Mittheilungen. Vill Band. 80 exemplaires. 8. De M. le conseiller intime, professeur Nagel à Dresde : Das Trigonometrische Net.z 1 Ordnung, I. HA. 57 exemplaires. 9. De M le général marquis de Mulhacén : Memorias del Institut° Geographico y Estadistico. Tomo VII. 67 exemplaires. 10. La Commission permanente a publié les ouvrages suivants : e) Bibliographie géodésique 875 exemplaires dont il a été distribué en mai et juin : 7 exemplaires aux Gouvernements des Etats faisant partie de l'Association inter-nationale, 369 exemplaires aux délégués, autorités, instituts, savants, sociétés, etc., suivant la liste de distribution établie par la Commission, 300 exemplaires ont été déposés en commission à la librairie G. Reimer, à Berlin et '134 exemplaires sont restés en dépôt au Bureau central.\"]}"
      ]
     },
     "execution_count": 2,
     "metadata": {},
     "output_type": "execute_result"
    }
   ],
   "source": [
    "corpus = {}\n",
    "languages = ['en','de','fr']\n",
    "directory = \"../corpus_samples/\"\n",
    "for language in languages:\n",
    "    corpus[language] = []\n",
    "    for file in os.listdir(directory):\n",
    "         filename = os.fsdecode(file)\n",
    "         if language in filename: \n",
    "             path = os.path.join(directory, filename)\n",
    "             file = codecs.open(path, encoding=\"utf8\")\n",
    "             lines = file.readlines()\n",
    "             stripped_lines = []\n",
    "             for line in lines:\n",
    "                stripped_lines.append(line.rstrip())\n",
    "             separator = ' '\n",
    "             text = separator.join(stripped_lines)\n",
    "             text_stripped = text.rstrip()\n",
    "             corpus[language].append(text_stripped)\n",
    "             continue\n",
    "         else:\n",
    "             continue\n",
    "corpus"
   ]
  },
  {
   "cell_type": "code",
   "execution_count": 16,
   "metadata": {},
   "outputs": [],
   "source": [
    "my_stop_words = {}\n",
    "my_stop_words['de'] = [u'herr', u'mit',u'der',u'die',u'das', u'in',u'sein',u'dies',u'einen',u'und', u'ich', u'mit',u'zu', u'von',u'bis', u'S.', u'°', u'den', u'dem', u'v.',u'u.',u'Z.',u'o.',u'U.',u'A.']\n",
    "my_stop_words['fr'] = [u'du', u'de',u'un', u'y', u'la', u'des', u'etc']"
   ]
  },
  {
   "cell_type": "markdown",
   "metadata": {},
   "source": [
    "We concatenate the strings for each language, remove the new lines from them, and store them in a new file per language"
   ]
  },
  {
   "cell_type": "code",
   "execution_count": 17,
   "metadata": {},
   "outputs": [
    {
     "name": "stdout",
     "output_type": "stream",
     "text": [
      "loading german model\n",
      "['auf', 'Sternwarte', 'Wien', 'ander', 'durch', 'VON', 'Oarr', 'auf', 'Sternwarte', 'München', 'ausgeführt', 'worden', 'war', 'Das', 'durch', 'Konstanten', 'gramme', 'val', 'abs', 'Wien', 'M.-G.', 'i.', 'm', 'cm', 'sek-2', 'definiert', 'Wiener', 'gramme', 'System', 'ist', 'bisher', 'allgemein', 'al', 'Grundlage', 'für', 'relativen', 'gramme', 'Messungen', 'beibehalten', 'worden', 'näherungsweise', 'ermittelten', 'Reduktionsbeträge', 'Beobachtungsreihen', 'auf', 'dasselbe', 'haben', 'Herrn', 'Prof', 'helmert', 'dazu', 'gedient', 'eine', 'diesem', 'System', 'angepaßte', 'Normalformel', 'abzuleiten', 'seit', 'zur', 'Darstellung', 'Verlaufs', 'Schwerkraft', 'an', 'Erdoberfläche', 'verwendet', 'wird', 'In', 'oben', 'erwähnten', 'Berichte', 'wie', 'Herr', 'Prof', 'helmert', 'jedoch', 'schon', 'darauf', 'hin', 'daß', 'Wiener', 'Fundamentalkonstante', 'nach', 'seinen', 'auf', 'andere', 'Material', 'gestützten', 'Untersuchungen', 'wahrscheinlich', 'einer', 'Korrektion', 'cm', 'sek-2', 'bedürfe', 'ihm', 'älteren', 'meist', 'beträchtlichen', 'systematischen', 'Fehlern', 'behafteten', 'absoluten', 'Messungen', 'zur', 'Ableitung', 'eines', 'Normalwertes', 'gramme', 'nicht', 'geeignet', 'erschienen', 'so', 'leitete', 'er', 'im', 'jahre', 'eine', 'absolute', 'Bestimmung', 'gramme', 'für', 'Potsdam', 'Wege', 'bei', 'dieser', 'über', 'jahre', 'ausgedehnten', 'besonder', 'auf', 'elimination', 'systematischer', 'Fehler', 'Bedacht', 'nehmenden', 'Arbeit', 'wurden', 'außer', 'Reversionspendeln', 'preußischen', 'Geodätischen', 'institut', 'auch', 'österreichischen', 'italienischen', 'Reversionspendel', 'verwendet', 'miteinander', 'verglichen', 'Das', 'Resultat', 'war', 'für', 'Beobachtungsort', 'Potsdam', 'Pendelsaa.1', 'Geodätischen', 'institut', 'heure', 'gramme', 'val', 'abs', '22:9', \"4'.1\", 'm', '±', 'cm', 'sek-2', 'dieser', 'einigen', 'älteren', 'absoluten', 'Messungsergebnissen', 'recht', 'gut', 'harmonierende', 'Wert', 'bedingt', 'wie', 'wir', 'weiterhin', 'sehen', 'werden', 'Tat', 'eine', 'Korrektion', 'Wiener', 'Fundamentalkonstanten', 'cm', 'sek', 'In', 'Zeitraum', 'sind', 'schon', 'erwähnten', 'Arbeiten', 'noch', 'ungefähr', 'neue', 'gramme', 'Messungen', 'hinzugekommen', 'unter', 'denen', 'sich', 'wiederum', 'eine', 'Anzahl', 'Verbindungen', 'Hauptstationen', 'insbesondere', 'auch', 'solch', 'Potsdam', 'Mitteilungen', 'Kaiserl', 'Königl', 'Militeer', 'Geographischen', 'institut', 'X.', 'Band', 'XI', 'Band', '.XII', 'Band', 'Der', 'normal', 'Teil', 'Schwerkraft', 'im', 'Meeresniveceu', 'F.', 'R.', '1,,,ranmir', 'Sitzungsberichte', 'Königl', 'preuß', 'akademie', 'Wissenschaften', 'Berlin', 'vom', 'mefrz', '328.u', 'f', 'Bestimmung', 'absoluten', 'Größe', 'Schwerkraft', 'Potsdam', 'Reversionspendeln', 'prof', 'docteur', 'F.', 'KÜHNEN', 'Prof', 'docteur', 'ph', 'furtwxngler', 'Berlin']\n",
      "['messung', 'so', 'wichtigen', 'frage', 'anbahnen', 'könn', 'Im', 'Anschluss', 'hieran', 'wurd', 'Beschluss', 'gefasst', 'eine', 'Aufforderung', 'zur', 'Theilnahme', 'an', 'dieser', 'Untersuchung', 'an', 'eine', 'grösser', 'Anzahl', 'Sternwarten', 'Instituten', 'ergehen', 'lassen', 'Auf', 'Grund', 'dieser', 'Anregung', 'ist', 'zwar', 'verschiedenen', 'Seiten', 'Geneigtheit', 'ausgesprochen', 'worden', 'sich', 'an', 'einem', 'gemeinschaftlichen', 'Unternehmen', 'dieser', 'Art', 'betheiligen', 'aber', 'ist', 'zum', 'heutigen', 'tage', 'noch', 'keiner', 'Seite', 'wirklichen', 'Beobachtungen', 'begonnen', 'worden', 'dieser', 'Umstand', 'sowie', 'Resultate', 'einer', 'mehr', 'al', 'einjährigen', 'Beobachtungsreihe', 'Herrn', 'docteur', 'Küstner', 'auf', 'Berliner', 'Sternwarte', 'nach', 'Methode', 'Horrebo', 'w-', 'lco', 'tt', 'veranlassten', 'Herrn', 'Prof', 'f', 'erst', 'er', 'im', 'jahre', 'zweiten', 'Sitzung', 'Konferenz', 'Permanenten', 'Kommission', 'Salzburg', 'Antraget', 'Neuem', 'eine', 'Kommission', 'ernennen', 'welche', 'sich', 'Stande', 'frage', 'beschäftigen', 'nöthigenfalls', 'Permanenten', 'Kommission', 'weitergehend', 'Vorschläge', 'machen', 'soll', 'Durch', 'Ergebnisse', 'dieser', 'letzterwähnten', 'Beobachtungsreihe', 'war', 'frage', 'einer', 'Veränderlichkeit', 'Polhöhe', 'ein', 'akuteres', 'Stadium', 'getreten', 'Herr', 'docteur', 'k', 'ü', 's', 'tn', 'er', 'Resultat', 'gelangt', 'war', 'das', 'Beobachtungen', 'derselben', 'Sternpaare', 'im', 'früh-', 'jahr', 'eine', 'um', 'or:20', '±', \"0':o4\", 'mittlerer', 'Fehler', 'kleinere', 'Polhöhe', 'ergaben', 'al', 'die-', 'jenigen', 'im', 'Frühjahr', 'dadurch', 'Frage', 'nah', 'gerückt', 'war', 'ob', 'nicht', 'vielleicht', 'neben', 'schon', 'mehrfach', 'vermutheten', 'säkularen', 'Aenderungen', 'Polhöhe', 'auch', 'Schwan-', 'kungen', 'innerhalb', 'kürzerer', 'Fristen', 'nachzuweisen', 'seien', 'Die', 'Möglichkeit', 'derartiger', 'Veränderungen', 'al', 'Folge', 'auf', 'Erdoberfläche', 'sich', 'vollziehenden', 'meteorologischen', 'Vorgänge', 'ist', 'wohl', 'Niemand', 'bestritten', 'worden', 'nur', 'erschien', 'zweifelhaft', 'ob', 'Quantität', 'derselben', 'thatsächlich', 'Grenzen', 'Messbarkeit', 'erreicht', 'oder', 'überschreitet', 'Dem', 'oben', 'erwähnten', 'Antrage', 'Herrn', 'Prof', 'Fo', 'er', 'ster', 'wurde', 'Folge', 'gegeben', 'dritten', 'Sitzung', 'Bericht', 'Kommission', 'vorgelegt', 'Beschluss', 'gefasst', 'das', 'permanent', 'Kommission', 'al', 'eine', 'wichtig', 'dringliche', 'Aufgabe', 'inter-', 'nationalen', 'Erdmessung', 'betrachtet', 'nunmehr', 'auch', 'eigenen', 'Mitteln', 'Kräften', 'zur', 'Aufklärung', 'Frage', 'Veränderlichkeit', 'lage', 'Erdaxe', 'im', 'Erdkörper', 'beizu-', 'tragen', 'das', 'wünschenswerth', 'sei', 'zur', 'Vorbereitung', 'weiterer', 'umfassenderer', 'Unter-', 'suchungen', 'dieser', 'Art', 'Vorversuche', 'anzustellen', 'welche', 'Centralbureau', 'übertragen', 'seien', 'gereicht', 'mir', 'zur', 'besonderen', 'Ehre', 'Ihnen', 'über', 'diese', 'Vorversuche', 'heute', 'Bericht', 'erstatten', 'können', 'Von', 'Erwägung', 'ausgehend', 'das', 'ein', 'maassgebendes', 'Urtheil', 'über', 'Methode', 'Anwendung', 'bringenden', 'instrument', 'nur', 'durch', 'fortgesetzte', 'Ausführung', 'Breitenbestimmungen', 'erlangen', 'ist', 'das', 'durch', 'derartige', 'Beobachtungen', 'Vergl', 'Verhandlungen', 'Salzburg', 'abgehaltenen', 'Konferenz', 'Permanenten', 'Kommission', 'Internationalen', 'Erdmessung', 'Berlin', 'x889', 'pag', 'Vergl', 'k', 'ü', 'tn', 'er', 'Neue', 'Methode', 'zur', 'Bestimmung', 'aberration', 'Konstante', 'nebst', 'unter-', 'suchungen', 'über', 'Veränderlichkeit', 'Polhöhe', 'Berlin', 'pag', 'Vergl', 'Verhandlungen', 'Salzburg', 'abgehaltenen', 'Konferenz', 'Permanenten', 'Kommission', 'Internationalen', 'Erdmessung', 'Berlin', 'pag']\n",
      "['EINLEITUNG', 'Historische', 'Bemerkungen', 'über', 'Wiener', 'Potsdamer', 'Schweresystem', 'Seit', 'Einführung', \"STERNEcK'\", 'schen', 'Pendelapparats', 'haben', 'relativen', 'Schweremessungen', 'fast', 'allen', 'Internationalen', 'Erdmessung', 'angehörenden', 'Staaten', 'lebhafteste', 'Förderung', 'erfahren', 'im', 'jahre', 'kaum', 'jahre', 'nach', 'allge-', 'meineren', 'Bekanntwerden', 'diese', 'Apparats', 'lag', 'bereit', 'ein', 'Beobachtungsmaterial', 'auf', 'rund', 'Stationen', 'vor', 'Militär', 'Geographische', 'Institut', 'Wien', 'öster-', 'reichische', 'Kriegsmarine', 'unter', 'Herrn', 'VON', 'STERNECK%', 'Leitung', 'persönlicher', 'Mitwirkung', 'weitaus', 'größten', 'Beiträge', 'geliefert', 'hatten', 'eine', 'ausführlich', 'Zusammenstellung', 'kritische', 'Beleuchtung', 'dieser', 'Arbeiten', 'gab', 'Herr', 'Prof', 'HELMERT', 'seinem', 'xiii', 'allge-', 'meinen', 'Konferenz', 'Internationalen', 'Erdmessung', 'Paris', 'vorgelegten', 'Berichte', 'außerdem', 'noch', 'etwer', 'gramme', 'Werte', 'älteren', 'Ursprungs', 'enthält', 'Zwischen', 'Referenz-', 'Hauptstationen', 'gesonderten', 'Beobachtungsreihen', 'unter', 'welcher', 'Form', 'sich', 'relativen', 'gramme', 'Messungen', 'stet', 'darstellen', 'waren', 'bereit', 'Verbindungen', 'genügender', 'Zahl', 'hergestellt', 'so', 'daß', 'Herr', 'Prof', 'helmert', 'schon', 'damal', 'alle', 'dies', 'Reihen', 'näherungsweise', 'ein', 'einheitliches', 'Schweresystem', 'bringen', 'konnt', 'er', 'wählte', 'al', 'Fundamentalstation', 'Militär', 'Geographische', 'Institut', 'Wien', 'wo', 'Herr', 'VON', 'STERNECK', 'absoluten', 'Wert', 'Schwerkraft', 'durch', 'Übertragung', 'zweier', 'absoluter', 'Bestimmungen', 'ermittelt', 'hatt', 'denen', 'eine', 'durch', 'VON', 'oppolzer', 'Generalmajor', 'docteur', 'ROBERT', 'VON', 'STERNECK', 'j', 'verdienstvoll', 'ehemalige', 'Leiter', 'trigono-', 'metrischen', 'Abteilung', 'k.', 'k.', 'Militär', 'Geographischen', 'Instituts', 'Wien', 'ersann', 'Anfang', 'achtziger', 'jahre', 'vorigen', 'Jahrhunderts', 'äußerst', 'kompendiösen', 'Pendelapparat', 'im', 'Ver-', 'gleich', 'früheren', 'Hilfsmitteln', 'dieser', 'art', 'eine', 'wesentlich', 'Vereinfachung', 'Verfeinerung', 'Beobachtungsverfahrens', 'gewährte', 'sich', 'bald', 'ungeteilte', 'Anerkennung', 'aller', 'Fachleute', 'erwarb', 'mettre', \"STERNECK'\", 's', 'Apparat', 'ward', 'möglich', 'Schweremessungen', 'vorher', 'ungeahnter', 'Weise', 'mehren', 'kurzer', 'Zeit', 'über', 'große', 'Ländergebiete', 'auszudehnen', 'Verhandlungen', 'vom', 'September', 'Oktober', 'Paris', 'abgehaltenen', 'xiii', 'allgemeinen', 'Konferenz', 'Internationalen', 'Erdmessung', 'ii', 'Teil']\n",
      "['vii', 'Tabelle', 'XII', 'Amerikanische', 'Messungen', 'Seite', 'Gruppe', 'Messungen', 'Coast', 'and', 'Geodetic', 'Survey', 'Sekunden', 'reversions-', 'Pendeln', 'gruppe', 'Messungen', 'Coast', 'and', 'Geodetic', 'Survey', 'invariabeln', 'halb-', 'sekundenpendeln', 'Gruppe', 'Messungen', 'durch', 'Observatoi', 'v', 'Ottawa', 'Brit', 'n.', 'tabelle', 'xiii.japanisch', 'Messungen', 'gruppe', 'Ältere', 'Messungen', 'Sekundenpendeln', 'gruppe', 'Messungen', 'Kaiserl', 'japanischen', 'Gradmessungs', 'Kommission', 'Alphabetisches', 'Verzeichnis', 'Schwerestationen', 'Übersichtskarten', 'Blatt', 'I.', 'Übersicht', 'über', 'geographische', 'Verteilung', 'Schwerestationen', 'Europa', 'zum', 'jahre', 'Blatt', 'ii', 'Übersicht', 'über', 'geographische', 'Verteilung', 'Schwerestationen', 'auf', 'Erde', 'zum', 'jahre', 'Druckfehler', 'lier', 'Länge', 'Straßburg', '46:1', 'statt', '46:6', 'lier', 'gy', 'statt', 'gramme', 'lier', 'Castellammare', 'statt', 'Castellamare', 'lier', 'Tokyo', 'statt', 'Tokio', 'lier', 'Gassenmayr', 'statt', 'Gassenmayer', 'lier', 'Miltenberg', 'statt', 'Mittenberg', 'lier', 'Walfischbai', 'statt', 'Wallfischbei', 'lier', 'Süderbrarup', 'statt', 'Süderbarup', 'lier', 'Säckingen', 'statt', 'Säkingen', 'lier', 'Kavslunde', 'statt', 'Karslunde', 'lier', 'Nikolaistad', 'statt', 'Nikolaistadt', 'lier', 'Altona', 'Hamburg', 'statt', 'Altona', 'lier', 'Hamburg', 'Altona', 'statt', 'Hamburg']\n",
      "loading french model\n"
     ]
    },
    {
     "name": "stdout",
     "output_type": "stream",
     "text": [
      "['élevé', 'avantage', 'matériel', 'communication', 'impérissable', 'fruit', 'esprit', 'humain', 'rencontre', 'sincère', 'unanime', 'vénération', 'sentiment', 'saluer', 'homme', 'accouru', 'party', 'globe', 'verser', 'fonds', 'commun', 'humanité', 'résultat', 'noble', 'recherche', 'scientifique', 'éclairer', 'mutuellement', 'préparer', 'ensemble', 'nouveau', 'progrès', 'nouveau', 'découverte', 'fois', 'Haye', 'monsieur', 'être', 'assigner', 'rendez-vous', 'Néerlande', 'organe', 'venir', 'féliciter', 'vivement', 'choix', 'permettre', 'joindre', 'voeu', 'bon', 'réussite', 'travail', 'pouvoir', 'séjour', 'faire', 'ici', 'gré', 'court', 'bon', 'agréable', 'impression', 'monsieur', 'général', 'Ibeez', 'répondre', 'parole', 'Monsieur', 'ministre', 'déjà', 'an', 'Commission', 'permanent', 'association', 'géodésique', 'international', 'tenir', 'session', 'annuel', 'Haye', 'gouvernement', 'S.', 'monsieur', 'roi', 'vouloir', 'recevoir', 'circonstance', 'imprévu', 'partie', 'douloureux', 'forcer', 'renoncer', 'année', 'dernier', 'gouvernement', 'pays', 'vouloir', 'maintenir', 'année', 'gracieux', 'invitation', 'heureux', 'constater', 'ici', 'grand', 'satisfaction', 'éprouver', 'géodésien', 'pays', 'Europe', 'réunir', 'patrie', 'Snellius', 'Huygens', 'général', 'Krayenhoff', 'ancien', 'éminent', 'collègue', 'monsieur', 'Kaiser', 'Stamkart', 'enlever', 'année', 'science', 'cultiver', 'succès', 'confrère', 'apprécier', 'charme', 'bonté', 'caractère', 'console', 'perte', 'assurance', 'voir', 'travail', 'géodésique', 'continuer', 'Hollande', 'succès', 'Commission', 'géodésique', 'réunir', 'homme', 'distingué', 'compétent', 'branche', 'étude', 'embrasser', 'regretter', 'absence', 'vénérable', 'fondateur', 'vaste', 'association', 'Excellence', 'Monsieur', 'général', 'Baeyer', 'retenir', 'Berlin', 'indisposition', 'empêcher', 'faire', 'voyage', 'vouer', 'direction', 'travail', 'bureau', 'central', 'association', 'prier', 'Excellence', 'agréer', 'remercîment', 'association', 'géodésique', 'international', 'honneur', 'adresser', 'nom', 'gouvernement', 'néerlandais', 'monsieur', 'président', 'donne', 'parole', 'monsieur', 'Ilirsch', 'dépouillement', 'corres-', 'pondance', 'monsieur', 'Iiirsch', 'communiquer', 'lettre', 'monsieur', 'général', 'y.', 'Forsch', 'regretter', 'retenir', 'circonstance', 'impérieux', 'saint', 'Pétersbourg', 'lit', 'lettre', 'monsieur', 'général', 'Carl', 'Em', 'Arbués', 'Moreira', 'monsieur', 'colonel', 'Barozzi', 'excttser', 'absence']\n",
      "['fonds', 'dotation', 'Commission', 'permanent', 'administrer', 'précé', 'demment', 'avoir', 'honneur', 'remettre', 'monsieur', 'président', 'état', 'compte', 'an', 'naître', 'aperçu', 'situation', 'actuel', '11elmert', 'rapport', 'accompagner', 'liste', 'expédition', 'laite', 'exer', 'cice', 'résumé', 'expédition', 'publication', 'association', 'géodésique', 'faire', 'bureau', 'central', 'Conférence', 'Salzbourg', 'jusque', 'tin', 'septembre', 'bureau', 'central', 'recevoir', 'millimètre', 'délégué', 'association', 'géodésique', 'international', 'distribuer', 'publication', 'monsieur', 'général', 'Schreiber', 'Berlin', 'Abrisse', 'Koordinaten', 'und', 'Iliihen', 'licher', 'von', 'ler', 'Landes', 'Aufnahme', 'bestimmten', 'punkt', '°', '8t', '►', 'Theil', 'exemplaire', 'mème', 'nivellement', 'der', 'Trigonometrischen', 'Abtheilung', 'der', 'Landesaufnahme', '71er', 'Band', 'exemplaire', 'Commission', 'géodésique', 'suisse', 'réseau', 'triangulalion', 'suisse', 'vol', 'iii', 'letisuration', 'base', 'suisse', 'millimètre', 'dr', 'Hirsch', 'colonel', 'Imm', 'inème', 'Das', 'Schweizerische', 'Dreiecksnetz', 'band', 'iv', 'exemplaire', 'monsieur', 'colonel', 'Stefanis', 'Florence', 'Relazione', 'sull', 'esperienz', 'istitut', 'nel', 'R.', 'Osservatorio', 'Astronomie', '°', 'di', 'Padova', 'in', 'Agosto', 'e', 'Febbraio', 'exemplaire', 'Triangolazione', 'di', 'ordine', 'dell', 'isola', 'Sardegna', 'vol', 'exem-', 'plaire', 'Institut', 'militaire', 'géographique', 'venir', 'Mittheilungen', 'vill', 'Band', 'exemplaire', 'monsieur', 'conseiller', 'intime', 'professeur', 'Nagel', 'Dresde', 'Das', 'Trigonometrische', 'Net.z', 'Ordnung', 'I.', 'exemplaire', 'm', 'général', 'marquis', 'Mulhacén', 'Memorias', 'del', 'Institut', '°', 'Geographico', 'Estadistico', 'Tomo', 'VII', 'exemplaire', 'Commission', 'permanent', 'publier', 'ouvrage', 'e', 'bibliographie', 'géodésique', 'exemplaire', 'distribuer', 'mai', 'juin', 'exemplaire', 'gouvernement', 'etat', 'partie', 'Association', 'inter-national', 'exemplaire', 'délégué', 'autorité', 'institut', 'savant', 'société', 'etc.', 'liste', 'distribution', 'établir', 'Commission', 'exemplaire', 'déposer', 'commission', 'librairie', 'g.', 'Reimer', 'Berlin', 'exemplaire', 'rester', 'dépôt', 'bureau', 'central']\n",
      "CPU times: user 45.7 s, sys: 750 ms, total: 46.5 s\n",
      "Wall time: 46.4 s\n"
     ]
    }
   ],
   "source": [
    "%%time\n",
    "clean_corpus = {}\n",
    "for language in languages:\n",
    "    clean_corpus[language] = []\n",
    "    if language == 'fr':\n",
    "        print('loading french model')\n",
    "        nlp = spacy.load(\"fr_core_news_md\")        \n",
    "    elif language == 'de':\n",
    "        print ('loading german model')\n",
    "        nlp = spacy.load(\"fr_core_news_md\")\n",
    "    elif language == 'en':\n",
    "        continue\n",
    "    for stopword in my_stop_words[language]:\n",
    "        lexeme = nlp.vocab[stopword]\n",
    "        lexeme.is_stop = True\n",
    "    for page in corpus[language]:\n",
    "        doc = nlp(page)\n",
    "        tokens = [token.lemma_ for token in doc if not token.is_space and not token.is_stop and not token.is_punct and not token.like_num and not token.is_space]\n",
    "        print(tokens)\n",
    "        clean_corpus[language].append(' '.join(tokens))"
   ]
  },
  {
   "cell_type": "code",
   "execution_count": 18,
   "metadata": {},
   "outputs": [
    {
     "data": {
      "text/plain": [
       "'élevé avantage matériel communication impérissable fruit esprit humain rencontre sincère unanime vénération sentiment saluer homme accouru party globe verser fonds commun humanité résultat noble recherche scientifique éclairer mutuellement préparer ensemble nouveau progrès nouveau découverte fois Haye monsieur être assigner rendez-vous Néerlande organe venir féliciter vivement choix permettre joindre voeu bon réussite travail pouvoir séjour faire ici gré court bon agréable impression monsieur général Ibeez répondre parole Monsieur ministre déjà an Commission permanent association géodésique international tenir session annuel Haye gouvernement S. monsieur roi vouloir recevoir circonstance imprévu partie douloureux forcer renoncer année dernier gouvernement pays vouloir maintenir année gracieux invitation heureux constater ici grand satisfaction éprouver géodésien pays Europe réunir patrie Snellius Huygens général Krayenhoff ancien éminent collègue monsieur Kaiser Stamkart enlever année science cultiver succès confrère apprécier charme bonté caractère console perte assurance voir travail géodésique continuer Hollande succès Commission géodésique réunir homme distingué compétent branche étude embrasser regretter absence vénérable fondateur vaste association Excellence Monsieur général Baeyer retenir Berlin indisposition empêcher faire voyage vouer direction travail bureau central association prier Excellence agréer remercîment association géodésique international honneur adresser nom gouvernement néerlandais monsieur président donne parole monsieur Ilirsch dépouillement corres- pondance monsieur Iiirsch communiquer lettre monsieur général y. Forsch regretter retenir circonstance impérieux saint Pétersbourg lit lettre monsieur général Carl Em Arbués Moreira monsieur colonel Barozzi excttser absence'"
      ]
     },
     "execution_count": 18,
     "metadata": {},
     "output_type": "execute_result"
    }
   ],
   "source": [
    "clean_corpus['fr'][0]"
   ]
  },
  {
   "cell_type": "code",
   "execution_count": 19,
   "metadata": {},
   "outputs": [],
   "source": [
    "for language in languages:\n",
    "        with codecs.open(os.path.join(directory +'/processed/', language + '.txt'), 'w', encoding='utf_8') as language_txt_file:\n",
    "            language_txt_file.write('\\r'.join(clean_corpus[language]))"
   ]
  },
  {
   "cell_type": "code",
   "execution_count": null,
   "metadata": {},
   "outputs": [],
   "source": []
  }
 ],
 "metadata": {
  "kernelspec": {
   "display_name": "Python 3",
   "language": "python",
   "name": "python3"
  },
  "language_info": {
   "codemirror_mode": {
    "name": "ipython",
    "version": 3
   },
   "file_extension": ".py",
   "mimetype": "text/x-python",
   "name": "python",
   "nbconvert_exporter": "python",
   "pygments_lexer": "ipython3",
   "version": "3.7.3"
  }
 },
 "nbformat": 4,
 "nbformat_minor": 2
}
