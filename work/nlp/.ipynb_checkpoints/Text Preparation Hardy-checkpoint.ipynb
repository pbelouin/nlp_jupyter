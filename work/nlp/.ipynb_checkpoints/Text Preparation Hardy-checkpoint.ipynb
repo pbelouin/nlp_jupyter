{
 "cells": [
  {
   "cell_type": "markdown",
   "metadata": {},
   "source": [
    "File Preprocessing"
   ]
  },
  {
   "cell_type": "code",
   "execution_count": null,
   "metadata": {},
   "outputs": [],
   "source": [
    "!pip install -U numpy"
   ]
  },
  {
   "cell_type": "code",
   "execution_count": 2,
   "metadata": {},
   "outputs": [],
   "source": [
    "import os\n",
    "import codecs\n",
    "import spacy\n",
    "import numpy\n",
    "import gensim\n",
    "from spacy import displacy\n",
    "import pandas as pd"
   ]
  },
  {
   "cell_type": "code",
   "execution_count": null,
   "metadata": {},
   "outputs": [],
   "source": [
    "%%time\n",
    "corpus = []\n",
    "directory = \"../hardy/\"\n",
    "for file in os.listdir(directory):\n",
    "    filename = os.fsdecode(file)\n",
    "    path = os.path.join(directory, filename)\n",
    "    file = codecs.open(path, encoding=\"utf8\")\n",
    "    lines = file.readlines()\n",
    "    stripped_lines = []\n",
    "    for line in lines:\n",
    "        stripped_lines.append(line.rstrip())\n",
    "        separator = ' '\n",
    "        text = separator.join(stripped_lines)\n",
    "        text_stripped = text.rstrip()\n",
    "        corpus.append(text_stripped)\n",
    "        continue"
   ]
  },
  {
   "cell_type": "markdown",
   "metadata": {},
   "source": [
    "We concatenate the strings for each language, remove the new lines from them, and store them in a new file per language"
   ]
  },
  {
   "cell_type": "code",
   "execution_count": 213,
   "metadata": {},
   "outputs": [],
   "source": [
    "for language in languages:\n",
    "        with codecs.open(os.path.join(directory +'/processed/', language + '.txt'), 'w', encoding='utf_8') as language_txt_file:\n",
    "            language_txt_file.write('\\r'.join(corpus))"
   ]
  },
  {
   "cell_type": "code",
   "execution_count": null,
   "metadata": {},
   "outputs": [],
   "source": []
  }
 ],
 "metadata": {
  "kernelspec": {
   "display_name": "Python 3",
   "language": "python",
   "name": "python3"
  },
  "language_info": {
   "codemirror_mode": {
    "name": "ipython",
    "version": 3
   },
   "file_extension": ".py",
   "mimetype": "text/x-python",
   "name": "python",
   "nbconvert_exporter": "python",
   "pygments_lexer": "ipython3",
   "version": "3.7.3"
  }
 },
 "nbformat": 4,
 "nbformat_minor": 2
}
