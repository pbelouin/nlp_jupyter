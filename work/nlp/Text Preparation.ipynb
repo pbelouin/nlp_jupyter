{
 "cells": [
  {
   "cell_type": "markdown",
   "metadata": {},
   "source": [
    "File Preprocessing"
   ]
  },
  {
   "cell_type": "code",
   "execution_count": null,
   "metadata": {},
   "outputs": [],
   "source": [
    "!pip install -U numpy"
   ]
  },
  {
   "cell_type": "code",
   "execution_count": 211,
   "metadata": {},
   "outputs": [],
   "source": [
    "import os\n",
    "import codecs\n",
    "import spacy\n",
    "import numpy\n",
    "import gensim\n",
    "from spacy import displacy\n",
    "import pandas as pd"
   ]
  },
  {
   "cell_type": "code",
   "execution_count": 212,
   "metadata": {},
   "outputs": [
    {
     "data": {
      "text/plain": [
       "{'en': [],\n",
       " 'de': ['                                  2         auf der Sternwarte in Wien (1884), die andere durch VON Oarr auf der Sternwarte    in München (1877) ausgeführt worden war.*) Das durch die Konstanten                                                                g (val. abs.)         Wien, M.-G. I.  48° 121.7 16° 211.5  183 m    980.876 cm sek-2          definierte „Wiener g-System\" ist bisher allgemein als Grundlage für die relativen    g-Messungen beibehalten worden, und die näherungsweise ermittelten Reduktionsbeträge    der Beobachtungsreihen auf dasselbe haben Herrn Prof. HELMERT dazu gedient, eine    diesem System angepaßte Normalformel abzuleiten, die seit 1900 zur Darstellung des    Verlaufs der Schwerkraft an der Erdoberfläche verwendet wird.**)            In dem oben erwähnten Berichte (S. 374) wies Herr Prof. HELMERT jedoch    schon darauf hin, daß die Wiener Fundamentalkonstante, nach seinen auf anderes    Material gestützten Untersuchungen; wahrscheinlich einer Korrektion von — 0.015 bis    — 0.020 cm sek-2 bedürfe; und da ihm die älteren, meist mit beträchtlichen systematischen    Fehlern behafteten absoluten Messungen zur Ableitung eines Normalwertes von g nicht    geeignet erschienen, so leitete er im Jahre 1898 eine absolute Bestimmung von g    für Potsdam in die Wege. Bei dieser über 8 Jahre ausgedehnten und besonders auf    die Elimination systematischer Fehler Bedacht nehmenden Arbeit wurden außer den    Reversionspendeln des preußischen Geodätischen Instituts auch die österreichischen und    italienischen Reversionspendel verwendet und miteinander verglichen. Das Resultat war    für den Beobachtungsort                      Potsdam, Pendelsaa.1 des Geodätischen Instituts:                                   H              g (val. abs.)              52° 22:9  13° 4\\'.1  87 m    981.274 ± 0.003 cm sek-2.***)                Dieser mit einigen älteren absoluten Messungsergebnissen recht gut harmonierende    Wert bedingt, wie wir weiterhin sehen werden, in der Tat eine Korrektion der Wiener    Fundamentalkonstanten von — 0.016 cm sek 2.           In dem Zeitraum von 1900 bis 1906 sind zu den schon erwähnten Arbeiten noch     ungefähr 800 neue relative g-Messungen hinzugekommen, unter denen sich wiederum eine    Anzahl Verbindungen von Hauptstationen — insbesondere auch solChe mit Potsdam —               *) Mitteilungen des Kaiserl. und Königl. Militeer-Geographischen Institutes, X. Band, 1890,    S. 82; XI. Band, 1891, S. 161 und .XII. Band,\\' 1892, S. 227.           *5) Der normale Teil der Schwerkraft im Meeresniveceu, von F. R. 1-1,,,rAnmir; Sitzungsberichte   .  .      .   der Königl, preuß. Akademie der Wissenschaften zu Berlin vom 14. mefrz 1901, S. 328.u. f..       •  ***) Bestimmung der absoluten Größe der Schwerkraft zu Potsdam mit Reversionspendeln, von    Prof. Dr. F. KÜHNEN und Prof. Dr. PH. FURTWXNGLER ; Berlin 1906.',\n",
       "  \"                     2  messung so wichtigen Frage anbahnen könne. Im Anschluss hieran wurde der Beschluss gefasst, eine Aufforderung zur Theilnahme an dieser Untersuchung an eine grössere Anzahl von Sternwarten und Instituten ergehen zu lassen. Auf Grund dieser Anregung ist zwar von verschiedenen Seiten die Geneigtheit ausgesprochen worden, sich an einem gemeinschaftlichen Unternehmen dieser Art zu betheiligen, aber es ist bis zum heutigen Tage noch von keiner Seite mit wirklichen Beobachtungen begonnen worden.     Dieser Umstand sowie die Resultate einer mehr als einjährigen Beobachtungsreihe des Herrn Dr. Küstner auf der Berliner Sternwarte nach der Methode Horrebo w- Ta lco tt veranlassten Herrn Prof. F o erst er im Jahre 1888 in der zweiten Sitzung der Konferenz der Permanenten Kommission in Salzburg zu dem Antraget), von Neuem eine Kommission zu ernennen, welche sich mit dem Stande der Frage beschäftigen und nöthigenfalls der Permanenten Kommission weitergehende Vorschläge machen solle.     Durch die Ergebnisse dieser letzterwähnten Beobachtungsreihe war die Frage einer Veränderlichkeit der Polhöhe in ein akuteres Stadium getreten, da Herr Dr. K ü s tn er zu dem Resultat') gelangt war, dass die Beobachtungen derselben Sternpaare im Früh- jahr 1885 eine um or:20 ± 0':o4 (mittlerer Fehler) kleinere Polhöhe ergaben als die- jenigen im Frühjahr 1884, und dadurch die Frage nahe gerückt war, ob nicht vielleicht neben den schon mehrfach vermutheten säkularen Aenderungen der Polhöhe auch Schwan- kungen innerhalb kürzerer Fristen nachzuweisen seien. Die Möglichkeit derartiger Veränderungen, als Folge der auf der Erdoberfläche sich vollziehenden meteorologischen Vorgänge, ist wohl von Niemand bestritten worden; nur erschien es zweifelhaft, ob die Quantität derselben thatsächlich die Grenzen der Messbarkeit erreicht oder überschreitet.     Dem oben erwähnten Antrage des Herrn Prof. Fo er ster wurde Folge gegeben, in der dritten Sitzung der Bericht) der Kommission vorgelegt und der Beschluss gefasst, dass es die Permanente Kommission als eine wichtige und dringliche Aufgabe der Inter- nationalen Erdmessung betrachtet, nunmehr auch mit eigenen Mitteln und Kräften zur Aufklärung der Frage der Veränderlichkeit der Lage der Erdaxe im Erdkörper beizu- tragen, und dass es wünschenswerth sei, zur Vorbereitung weiterer umfassenderer Unter- suchungen dieser Art Vorversuche anzustellen, welche dem Centralbureau zu übertragen seien.     Es gereicht mir zur besonderen Ehre, Ihnen über diese Vorversuche heute Bericht erstatten zu können.     Von der Erwägung ausgehend, dass ein maassgebendes Urtheil über die Methode und die in Anwendung zu bringenden Instrumente nur durch fortgesetzte Ausführung von Breitenbestimmungen zu erlangen ist, und dass durch derartige Beobachtungen       1) Vergl. Verhandlungen der in Salzburg abgehaltenen Konferenz der Permanenten Kommission der Internationalen Erdmessung, Berlin x889, pag. 30.     2) Vergl. K üs tn er, Neue Methode zur Bestimmung der Aberrations-Konstante nebst Unter- suchungen über die Veränderlichkeit der Polhöhe, Berlin 1888, pag. 47.     2) Vergl. Verhandlungen der in Salzburg abgehaltenen Konferenz der Permanenten Kommission der Internationalen Erdmessung, Berlin 2889, pag. 33-34.\",\n",
       "  \"                   EINLEITUNG.      Historische Bemerkungen über das Wiener und das Potsdamer                     Schweresystem.       Seit der Einführung des STERNEcK'schen Pendelapparats *) haben die relativen Schweremessungen in fast allen der Internationalen Erdmessung angehörenden Staaten die lebhafteste Förderung erfahren. Im Jahre 1900, kaum 10 Jahre nach dem allge- meineren Bekanntwerden dieses Apparats, lag bereits ein Beobachtungsmaterial auf rund 1400 Stationen vor, zu dem das Militär-Geographische Institut in Wien und die öster- reichische Kriegsmarine unter Herrn VON STERNECK% Leitung und persönlicher Mitwirkung die weitaus größten Beiträge geliefert hatten. Eine ausführliche Zusammenstellung und kritische Beleuchtung dieser Arbeiten gab Herr Prof. HELMERT in seinem der XIII. Allge- meinen Konferenz der Internationalen Erdmessung in Paris (1900) vorgelegten Berichte, der außerdem noch etwa 100 g-Werte älteren Ursprungs enthält.**)      Zwischen den Referenz- und Hauptstationen der gesonderten Beobachtungsreihen, unter welcher Form sich die relativen g-Messungen stets darstellen, waren bereits Verbindungen in genügender Zahl hergestellt, so daß Herr Prof. HELMERT schon damals alle diese Reihen näherungsweise in ein einheitliches Schweresystem bringen konnte. Er wählte als Fundamentalstation das Militär-Geographische Institut in Wien, wo • Herr VON STERNECK den absoluten Wert der Schwerkraft durch relative Übertragung zweier absoluter Bestimmungen ermittelt hatte, von denen die eine durch VON OPPOLZER       *) Generalmajor Dr. ROBERT VON STERNECK j, der verdienstvolle ehemalige Leiter der trigono- metrischen Abteilung des K. u. K. Militär-Geographischen Instituts in Wien, ersann zu Anfang der achtziger Jahre des vorigen Jahrhunderts einen äußerst kompendiösen Pendelapparat, der im Ver- gleich mit den früheren Hilfsmitteln dieser Art eine wesentliche Vereinfachung und Verfeinerung des Beobachtungsverfahrens gewährte und sich bald die ungeteilte Anerkennung aller Fachleute erwarb. Mit STERNECK'S Apparat ward es möglich, die Schweremessungen in vorher ungeahnter Weise zu mehren und in kurzer Zeit über große Ländergebiete auszudehnen.     **) Verhandlungen der vom 25. September bis 6. Oktober in Paris abgehaltenen XIII. Allgemeinen Konferenz der Internationalen Erdmessung, II. Teil, S. 139 bis 385.                                              1\",\n",
       "  '                                        VII  Tabelle XII. Amerikanische Messungen.                                         Seite      Gruppe 1. Messungen der Coast and Geodetic Survey U. S. A. mit Sekunden-Reversions-                   Pendeln .1875-1890)                                      241, 247      Gruppe 2. Messungen der Coast and Geodetic Survey U. S. A. mit invariabeln Halb-                   sekundenpendeln                                           244,248      Gruppe 3. Messungen durch das Observatoi-v zu Ottawa (Brit. N. A       245,251 Tabelle XIII.Japanische Messungen.      Gruppe 1. Ältere Messungen mit Sekundenpendeln                         252,255      Gruppe 2. Messungen der Kaiserl. japanischen Gradmessungs-Kommission   252,255 Alphabetisches Verzeichnis der Schwerestationen                             259,261.   Übersichtskarten                                                              287      Blatt I. Übersicht über die geographische Verteilung der Schwerestationen in Europa bis                zum Jahre 1909.      Blatt II. Übersicht über die geographische Verteilung der Schwerestationen auf der Erde bis                zum Jahre 1909.                                         Druckfehler.             S. 6, Z. 1 v. o., lies die Länge von Straßburg 7° 46:1 statt 7° 46:6             S. 10, Z. 6 v. 0., lies gy statt g             S. 59, Z. 10 v. u., lies Castellammare statt Castellamare             S. 67, Z. 1 v. o., lies Tokyo statt Tokio             S. 67, Z. 15 v. o., lies Gassenmayr statt Gassenmayer             S. 86, Z. 13 v. o., lies Miltenberg statt Mittenberg             S. 92, Z. 12 v. u., lies Walfischbai statt Wallfischbei             5.101, Z. 3 v. u., lies Süderbrarup statt Süderbarup             S. 106, Z. 4 v. u., lies Säckingen statt Säkingen             S. 114, Z. 11 v. u., lies Kavslunde statt Karslunde             S. 145, Z. 13 v. u., lies Nikolaistad statt Nikolaistadt             5.261, Z. 2 v. u., lies Altona [Hamburg] statt Altona             5.268, Z. 15 v. u., lies Hamburg [Altona] statt Hamburg.'],\n",
       " 'fr': [\"                   6  et plus élevé que celui de l'avantage matériel, la communication directe des impérissables fruits de l'esprit humain y rencontre une sincère et unanime vénération.    C'est dans ce sentiment qu'elle salue les hommes accourus de plusieurs parties du globe pour verser dans le fonds commun de l'humanité les résultats de leurs nobles recherches scientifiques, pour s'éclairer mutuellement et préparer ensemble de nouveaux progrès et de nouvelles découvertes.    Et puisque cette fois-ci c'est La Haye que vous, Messieurs, vous êtes assigné comme rendez-vous, la Néerlande, par mon organe, vient vous dire qu'elle se félicite vivement de ce choix. Permettez moi d'y joindre tous mes voeux pour la bonne réussite de vos travaux et puisse le séjour que vous ferez ici et qui, à notre gré, sera toujours trop court, ne vous laisser que de bonnes et d'agréables impressions.    M. le Général Ibeez répond par les paroles suivantes:          Monsieur le Ministre,    Il y a déjà un an que la Commission permanente de l'Association géodésique internationale aurait tenu sa session annuelle à la Haye, oh le Gouvernement de S. M. le Roi avait bien voulu la recevoir; mais des circonstances imprévues, et en partie douloureuses, l'ont forcée d'y renoncer pour l'année dernière. Le Gouvernement des Pays Bas ayant bien voulu maintenir pour cette année sa gracieuse invitation, je suis heureux de constater ici la grande satisfaction que nous éprouvons, les géodésiens des différents pays de l'Europe, à nous réunir dans la patrie de Snellius, de Huygens, du Général Krayenhoff et de nos anciens éminents collègues, Messieurs Kaiser et Stamkart.    Ce dernier a été enlevé cette année même à la science, qu'il a cultivée avec tant de succès, et à ses confrères qui ont apprécié le charme et la bonté de son caractère. Ce qui nous console de cette perte, c'est l'assurance que nous avons de voir les travaux géodésiques continués en Hollande avec le même succès par la Commission géodésique qui réunit des hommes aussi distingués et compétents dans les différentes branches que nos études embrassent.    Nous regrettons tous l'absence du vénérable fondateur de cette vaste Association, Son Excellence Monsieur le Général Baeyer, retenu à Berlin par une indisposition qui l'a empêché de faire le voyage, mais qui lui permet de se vouer, comme toujours, à la direction des travaux du Bureau central de notre Association.    Je prie Votre Excellence d'agréer les remercîments de l'Association géodésique internationale, que j'ai l'honneur d'adresser en son nom au Gouvernement Néerlandais.    M. le Président donne la parole à M. Ilirsch, pour le dépouillement de la corres- pondance.    M. Iiirsch communique une lettre de M. le Général y. Forsch qui regrette d'être retenu par des circonstances impérieuses à St. Pétersbourg; il lit de même des lettres de M. le Général Carl. Em. de Arbués Moreira et de M. le Colonel Barozzi qui excttsent leur absence.\",\n",
       "  \" Le Fonds de dotation de la Commission permanente a été administré comme précé-demment. J'aurai l'honneur de remettre à M. le Président l'état des comptes pour l'an-née 1888 et un aperçu de la situation actuelle. 11ELMERT. Ce Rapport est accompagné de la liste suivante des. expéditions laites pendant l'exer-cice 1888/89. Résumé des expéditions de publications de l'Association géodésique faites par le Bureau central. Depuis la Conférence de Salzbourg, en 1888, jusqu'à la tin de septembre '1889, le Bureau central a reçu de MM. les délégués de l'Association géodésique internationale, pour être distribuées, les publications suivantes : 1. De M. le général Schreiber, à Berlin : Abrisse, Koordinaten und Iliihen licher von (ler Landes-Aufnahme bestimmten Punkt°. 8t► Theil. 79 exemplaires. -2. Du mème : Nivellement der Trigonometrischen Abtheilung der Landesaufnahme. 71er Band. 58 exemplaires. 3. De la Commission géodésique suisse : Le Réseau de Triangulalion suisse. Vol. III. letisuration des bases suisses par MM. le Dr Hirsch et le colonel D'Imm.. 4. De la inème : Das Schweizerische Dreiecksnetz. Band IV. 95 exemplaires. 5. De M. le colonel de Stefanis, à Florence : Relazione sulle esperienze istitute nel R. Osservatorio Astronomie° di Padova in Agosto '1885 e Febbraio 1886. '100 exemplaires. 6. Du même : Triangolazione di 10 ordine dell' isola Sardegna. Vol. 1. 100 exem- plaires. 7. De l'Institut militaire-géographique, à Vienne : Mittheilungen. Vill Band. 80 exemplaires. 8. De M. le conseiller intime, professeur Nagel à Dresde : Das Trigonometrische Net.z 1 Ordnung, I. HA. 57 exemplaires. 9. De M le général marquis de Mulhacén : Memorias del Institut° Geographico y Estadistico. Tomo VII. 67 exemplaires. 10. La Commission permanente a publié les ouvrages suivants : e) Bibliographie géodésique 875 exemplaires dont il a été distribué en mai et juin : 7 exemplaires aux Gouvernements des Etats faisant partie de l'Association inter-nationale, 369 exemplaires aux délégués, autorités, instituts, savants, sociétés, etc., suivant la liste de distribution établie par la Commission, 300 exemplaires ont été déposés en commission à la librairie G. Reimer, à Berlin et '134 exemplaires sont restés en dépôt au Bureau central.\"]}"
      ]
     },
     "execution_count": 212,
     "metadata": {},
     "output_type": "execute_result"
    }
   ],
   "source": [
    "corpus = {}\n",
    "languages = ['en','de','fr']\n",
    "directory = \"../corpus_samples/\"\n",
    "for language in languages:\n",
    "    corpus[language] = []\n",
    "    for file in os.listdir(directory):\n",
    "         filename = os.fsdecode(file)\n",
    "         if language in filename: \n",
    "             path = os.path.join(directory, filename)\n",
    "             file = codecs.open(path, encoding=\"utf8\")\n",
    "             lines = file.readlines()\n",
    "             stripped_lines = []\n",
    "             for line in lines:\n",
    "                stripped_lines.append(line.rstrip())\n",
    "             separator = ' '\n",
    "             text = separator.join(stripped_lines)\n",
    "             text_stripped = text.rstrip()\n",
    "             corpus[language].append(text_stripped)\n",
    "             continue\n",
    "         else:\n",
    "             continue\n",
    "corpus"
   ]
  },
  {
   "cell_type": "markdown",
   "metadata": {},
   "source": [
    "We concatenate the strings for each language, remove the new lines from them, and store them in a new file per language"
   ]
  },
  {
   "cell_type": "code",
   "execution_count": 213,
   "metadata": {},
   "outputs": [],
   "source": [
    "for language in languages:\n",
    "        with codecs.open(os.path.join(directory +'/processed/', language + '.txt'), 'w', encoding='utf_8') as language_txt_file:\n",
    "            language_txt_file.write('\\r'.join(corpus[language]))"
   ]
  },
  {
   "cell_type": "code",
   "execution_count": null,
   "metadata": {},
   "outputs": [],
   "source": []
  }
 ],
 "metadata": {
  "kernelspec": {
   "display_name": "Python 3",
   "language": "python",
   "name": "python3"
  },
  "language_info": {
   "codemirror_mode": {
    "name": "ipython",
    "version": 3
   },
   "file_extension": ".py",
   "mimetype": "text/x-python",
   "name": "python",
   "nbconvert_exporter": "python",
   "pygments_lexer": "ipython3",
   "version": "3.7.3"
  }
 },
 "nbformat": 4,
 "nbformat_minor": 2
}
